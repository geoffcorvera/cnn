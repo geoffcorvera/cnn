{
  "nbformat": 4,
  "nbformat_minor": 0,
  "metadata": {
    "colab": {
      "name": "catdog.ipynb",
      "provenance": [],
      "collapsed_sections": [],
      "toc_visible": true,
      "mount_file_id": "1DTMD1xpRXsLgB9pYFumEUIvo009xgsNJ",
      "authorship_tag": "ABX9TyOVDakhzzrNTkFzd/9k5pLm",
      "include_colab_link": true
    },
    "kernelspec": {
      "display_name": "Python 3",
      "name": "python3"
    },
    "language_info": {
      "name": "python"
    }
  },
  "cells": [
    {
      "cell_type": "markdown",
      "metadata": {
        "id": "view-in-github",
        "colab_type": "text"
      },
      "source": [
        "<a href=\"https://colab.research.google.com/github/geoffcorvera/cnn/blob/colab/catdog.ipynb\" target=\"_parent\"><img src=\"https://colab.research.google.com/assets/colab-badge.svg\" alt=\"Open In Colab\"/></a>"
      ]
    },
    {
      "cell_type": "code",
      "metadata": {
        "id": "fxo6jC0KtwUm"
      },
      "source": [
        "import os\n",
        "import numpy as np \n",
        "import matplotlib.pyplot as plt\n",
        "\n",
        "from tensorflow.keras.applications import InceptionResNetV2\n",
        "from keras import models\n",
        "from keras import layers\n",
        "from tensorflow import keras\n",
        "from tensorflow.keras.layers.experimental import preprocessing as preprocessing_layers\n",
        "from tensorflow.math import confusion_matrix"
      ],
      "execution_count": 2,
      "outputs": []
    },
    {
      "cell_type": "code",
      "metadata": {
        "id": "k27Ev1ArFi_B"
      },
      "source": [
        "# Confirm GPU connection\n",
        "import tensorflow as tf \n",
        "\n",
        "device_name = tf.test.gpu_device_name()\n",
        "if device_name != '/device:GPU:0':\n",
        "  raise SystemError('GPU device not found')\n",
        "print(f'Found GPU at: {device_name}')"
      ],
      "execution_count": null,
      "outputs": []
    },
    {
      "cell_type": "markdown",
      "metadata": {
        "id": "X5ESCOtfvM_z"
      },
      "source": [
        "# Load Pre-Trained Model\n",
        "Import InceptionResNetV2 pre-trained model - without the final classifying labels. We will append our own binary classifier, by flattening the output of InceptionResNetV2, then adding a fully connected layer and final output layer with a single neuron with sigmoid output."
      ]
    },
    {
      "cell_type": "code",
      "metadata": {
        "colab": {
          "base_uri": "https://localhost:8080/"
        },
        "id": "QE9KxubI-Fvg",
        "outputId": "ab2173c8-7bc4-4c84-c778-29cfcf681759"
      },
      "source": [
        "# Load resnet pretrained on ImageNet\n",
        "pre_model = InceptionResNetV2(weights='imagenet', include_top=False, input_shape=(150,150,3))\n",
        "pre_model.trainable = False"
      ],
      "execution_count": 3,
      "outputs": [
        {
          "output_type": "stream",
          "text": [
            "Downloading data from https://storage.googleapis.com/tensorflow/keras-applications/inception_resnet_v2/inception_resnet_v2_weights_tf_dim_ordering_tf_kernels_notop.h5\n",
            "219062272/219055592 [==============================] - 2s 0us/step\n"
          ],
          "name": "stdout"
        }
      ]
    },
    {
      "cell_type": "code",
      "metadata": {
        "colab": {
          "base_uri": "https://localhost:8080/",
          "height": 271
        },
        "id": "ZxoMrp7As3ze",
        "outputId": "644d29c4-db7c-4f57-864e-7e47b8cfdb58"
      },
      "source": [
        "# Visualize inception resnet first layer filters\n",
        "def getConvLayer(model):\n",
        "  res = None\n",
        "  for layer in model.layers:\n",
        "    if 'conv' in layer.name:\n",
        "      res = layer\n",
        "      break\n",
        "  return res\n",
        "\n",
        "def normalize(X):\n",
        "  return (X - np.min(X))/(np.max(X) - np.min(X))\n",
        "\n",
        "def visualizeFilters(filters):\n",
        "  nf = filters.shape[3]\n",
        "  fig, _ = plt.subplots(4,8)\n",
        "  \n",
        "  for i, ax in enumerate(fig.axes):\n",
        "    f = filters[:,:,:,i]\n",
        "    f = normalize(f)\n",
        "    ax.imshow(f, cmap='gray')\n",
        "    ax.set_axis_off()\n",
        "\n",
        "  fig.suptitle('1st Convolution Layer Filters')\n",
        "  plt.show()\n",
        "\n",
        "\n",
        "conv_layer = getConvLayer(pre_model)\n",
        "visualizeFilters(conv_layer.get_weights()[0])"
      ],
      "execution_count": 13,
      "outputs": [
        {
          "output_type": "display_data",
          "data": {
            "image/png": "[encoded data removed]",
            "text/plain": [
              "<Figure size 432x288 with 32 Axes>"
            ]
          },
          "metadata": {
            "tags": [],
            "needs_background": "light"
          }
        }
      ]
    },
    {
      "cell_type": "markdown",
      "metadata": {
        "id": "AQ-YWDMxULTD"
      },
      "source": [
        "# Build Model\n",
        "A binary classifier is added to the pre-trained model. The model also specifies preprocessing so it can take raw image data. Data is augmented with horizontal flips, random rotation and zooming. Pixel values are rescaled to range [0,1].\n",
        "\n",
        "The model is compiled with binary cross entropy loss and RMSprop optimizer."
      ]
    },
    {
      "cell_type": "code",
      "metadata": {
        "colab": {
          "base_uri": "https://localhost:8080/"
        },
        "id": "jQMCbqpc0KWt",
        "outputId": "21834ce4-f357-4064-d610-719359751daf"
      },
      "source": [
        "print('Building model...\\n')\n",
        "\n",
        "data_augmentation = keras.Sequential(\n",
        "    [\n",
        "      preprocessing_layers.RandomFlip('horizontal'),\n",
        "      preprocessing_layers.RandomRotation(0.1),\n",
        "      preprocessing_layers.RandomZoom(0.1),\n",
        "    ]\n",
        ")\n",
        "\n",
        "input_shape = (150,150,3)\n",
        "inputs = keras.Input(shape=input_shape)\n",
        "x = data_augmentation(inputs)           #Augment data to increase training set\n",
        "x = preprocessing_layers.Rescaling(1.0/255)(x) #Rescale image values to [0,1]\n",
        "\n",
        "outputs = pre_model(x)\n",
        "outputs = layers.Flatten()(outputs) #flatten output of pre_model\n",
        "outputs = layers.Dense(256, activation='relu')(outputs) #adds dense layer w/ 256 neurons + ReLU activation\n",
        "outputs = layers.Dense(1, activation='sigmoid')(outputs) #output layer w/ single neuron, output in range [0,1]\n",
        "\n",
        "model = keras.Model(inputs, outputs)\n",
        "\n",
        "model.compile(optimizer='rmsprop',\n",
        "              metrics=['accuracy'],\n",
        "              loss='binary_crossentropy')\n",
        "\n",
        "model.summary()"
      ],
      "execution_count": null,
      "outputs": [
        {
          "output_type": "stream",
          "text": [
            "Building model...\n",
            "\n",
            "Model: \"model\"\n",
            "_________________________________________________________________\n",
            "Layer (type)                 Output Shape              Param #   \n",
            "=================================================================\n",
            "input_2 (InputLayer)         [(None, 150, 150, 3)]     0         \n",
            "_________________________________________________________________\n",
            "sequential (Sequential)      (None, 150, 150, 3)       0         \n",
            "_________________________________________________________________\n",
            "rescaling (Rescaling)        (None, 150, 150, 3)       0         \n",
            "_________________________________________________________________\n",
            "inception_resnet_v2 (Functio (None, 3, 3, 1536)        54336736  \n",
            "_________________________________________________________________\n",
            "flatten (Flatten)            (None, 13824)             0         \n",
            "_________________________________________________________________\n",
            "dense (Dense)                (None, 256)               3539200   \n",
            "_________________________________________________________________\n",
            "dense_1 (Dense)              (None, 1)                 257       \n",
            "=================================================================\n",
            "Total params: 57,876,193\n",
            "Trainable params: 3,539,457\n",
            "Non-trainable params: 54,336,736\n",
            "_________________________________________________________________\n"
          ],
          "name": "stdout"
        }
      ]
    },
    {
      "cell_type": "markdown",
      "metadata": {
        "id": "AVWxjozXQyl6"
      },
      "source": [
        "# Import Data\n",
        "All images are resized to (150x150). The training dataset is split into training & validation datasets. Most of the preprocessing is specified within the model (see above)."
      ]
    },
    {
      "cell_type": "code",
      "metadata": {
        "colab": {
          "base_uri": "https://localhost:8080/"
        },
        "id": "Vhw3dducvMmr",
        "outputId": "1315ceca-c8ab-4c8b-bb83-40a74dde0efd"
      },
      "source": [
        "import tensorflow.keras.preprocessing as preprocessing\n",
        "from google.colab import drive\n",
        "\n",
        "print('Importing training and test datasets...\\n')\n",
        "batch_size = 64\n",
        "\n",
        "train_path = r'/content/drive/MyDrive/Spring2021/Deep Learning & Computer Vision/p3_data/cats_dogs_dataset/dataset/training_set'\n",
        "all_ds = preprocessing.image_dataset_from_directory(train_path,\n",
        "                                                    image_size=(150,150),\n",
        "                                                    shuffle=True,\n",
        "                                                    label_mode='binary',\n",
        "                                                    batch_size=batch_size)\n",
        "\n",
        "val_size = 12\n",
        "val_ds = all_ds.take(val_size)\n",
        "train_ds = all_ds.skip(val_size)\n",
        "\n",
        "test_path = r'/content/drive/MyDrive/Spring2021/Deep Learning & Computer Vision/p3_data/cats_dogs_dataset/dataset/test_set'\n",
        "test_ds = preprocessing.image_dataset_from_directory(test_path,\n",
        "                                                     image_size=(150,150),\n",
        "                                                     label_mode='binary',\n",
        "                                                     batch_size=batch_size)"
      ],
      "execution_count": null,
      "outputs": [
        {
          "output_type": "stream",
          "text": [
            "Importing training and test datasets...\n",
            "\n",
            "Found 8282 files belonging to 2 classes.\n",
            "Found 2003 files belonging to 2 classes.\n"
          ],
          "name": "stdout"
        }
      ]
    },
    {
      "cell_type": "markdown",
      "metadata": {
        "id": "fpOLl6TbEeAY"
      },
      "source": [
        "# Train\n",
        "The model is compiled with RMSprop optimizer and binary cross-entropy loss function.\n",
        "\n",
        "Training continues for 3 epochs, with 0.2% of the training set used for validation to check generalization.\n",
        "\n",
        "Weights are saved periodically during training to the \"training\" directory. When model fitting is complete, the model is saved to \"last_trained\" directory for future use."
      ]
    },
    {
      "cell_type": "code",
      "metadata": {
        "id": "gN5eMw5EPVzW"
      },
      "source": [
        "# Load pre-trained model and SKIP NEXT CODE BLOCK\n",
        "model = keras.models.load_model(r'/content/drive/MyDrive/Spring2021/Deep Learning & Computer Vision/saved_models/v4_catdog_binaryaccuracy')"
      ],
      "execution_count": null,
      "outputs": []
    },
    {
      "cell_type": "code",
      "metadata": {
        "colab": {
          "background_save": true,
          "base_uri": "https://localhost:8080/"
        },
        "id": "-1cahjH-_POA",
        "outputId": "b05cc031-0f35-4224-96af-789f61829a36"
      },
      "source": [
        "# fit model & save weights during training & after\n",
        "checkpoint_path = r'/content/drive/MyDrive/Spring2021/Deep Learning & Computer Vision/training'\n",
        "checkpoint_dir = os.path.dirname(checkpoint_path)\n",
        "\n",
        "cp_callback = tf.keras.callbacks.ModelCheckpoint(filepath=checkpoint_path,\n",
        "                                                 save_weights_only=True,\n",
        "                                                 verbose=1)\n",
        "\n",
        "\n",
        "print('Fitting to data...\\n')\n",
        "history = model.fit(train_ds,\n",
        "                    epochs=5,\n",
        "                    callbacks=[cp_callback],\n",
        "                    validation_data=val_ds)\n",
        "\n",
        "save_path = r'/content/drive/MyDrive/Spring2021/Deep Learning & Computer Vision/last_trained'\n",
        "model.save(save_path)"
      ],
      "execution_count": null,
      "outputs": [
        {
          "output_type": "stream",
          "text": [
            "Fitting to data...\n",
            "\n",
            "Epoch 1/5\n",
            "118/118 [==============================] - 2117s 16s/step - loss: 4.1973 - accuracy: 0.8630 - val_loss: 0.7033 - val_accuracy: 0.8906\n",
            "\n",
            "Epoch 00001: saving model to /content/drive/MyDrive/Spring2021/Deep Learning & Computer Vision/training\n",
            "Epoch 2/5\n",
            "118/118 [==============================] - 789s 7s/step - loss: 0.4829 - accuracy: 0.9201 - val_loss: 0.1295 - val_accuracy: 0.9609\n",
            "\n",
            "Epoch 00002: saving model to /content/drive/MyDrive/Spring2021/Deep Learning & Computer Vision/training\n",
            "Epoch 3/5\n",
            "118/118 [==============================] - 803s 7s/step - loss: 0.2926 - accuracy: 0.9261 - val_loss: 0.3545 - val_accuracy: 0.8945\n",
            "\n",
            "Epoch 00003: saving model to /content/drive/MyDrive/Spring2021/Deep Learning & Computer Vision/training\n",
            "Epoch 4/5\n",
            "118/118 [==============================] - 813s 7s/step - loss: 0.2330 - accuracy: 0.9359 - val_loss: 0.2514 - val_accuracy: 0.9310\n",
            "\n",
            "Epoch 00004: saving model to /content/drive/MyDrive/Spring2021/Deep Learning & Computer Vision/training\n",
            "Epoch 5/5\n",
            "118/118 [==============================] - 789s 7s/step - loss: 0.2330 - accuracy: 0.9362 - val_loss: 0.2336 - val_accuracy: 0.9622\n",
            "\n",
            "Epoch 00005: saving model to /content/drive/MyDrive/Spring2021/Deep Learning & Computer Vision/training\n",
            "INFO:tensorflow:Assets written to: /content/drive/MyDrive/Spring2021/Deep Learning & Computer Vision/last_trained/assets\n"
          ],
          "name": "stdout"
        }
      ]
    },
    {
      "cell_type": "code",
      "metadata": {
        "id": "OayS_KR9tid4"
      },
      "source": [
        "# get sample from training set for sanity check\n",
        "def get_preds_labels(dat):\n",
        "  truths = []\n",
        "  preds = []\n",
        "  for X,Y in dat:\n",
        "    truths.append(Y.numpy().astype(int))\n",
        "    preds.append(model.predict(X))\n",
        "\n",
        "  preds = np.concatenate(preds, axis=0)\n",
        "  truths = np.concatenate(truths, axis=0)\n",
        "  print(preds.shape, truths.shape)\n",
        "  # Threshold at 0.9\n",
        "  preds = np.where(preds>0.9,1,0).astype(int)\n",
        "\n",
        "  return (preds, truths)\n",
        "\n",
        "print('Evaluating against test set...')\n",
        "results = model.evaluate(test_ds)\n",
        "\n",
        "print('Running predictions on test set...')\n",
        "preds, truths = get_preds_labels(test_ds)"
      ],
      "execution_count": null,
      "outputs": []
    },
    {
      "cell_type": "code",
      "metadata": {
        "colab": {
          "base_uri": "https://localhost:8080/",
          "height": 269
        },
        "id": "6HN8T0cVPV0a",
        "outputId": "8ce5a267-ea7b-4179-e547-4ba2a036c5bb"
      },
      "source": [
        "def show_conf_mat(y_pred, y_true, class_names):\n",
        "  con_mat = confusion_matrix(labels=y_true, predictions=y_pred).numpy()\n",
        "  \n",
        "  fig, ax = plt.subplots()\n",
        "  ax.matshow(con_mat, cmap='cividis')\n",
        "  for (i, j), z in np.ndenumerate(con_mat):\n",
        "    ax.text(j, i, '{:0.1f}'.format(z), ha='center', va='center')\n",
        "  ax.set_xticklabels(['']+class_names)\n",
        "  ax.set_yticklabels(['']+class_names)\n",
        "  plt.show()\n",
        "\n",
        "show_conf_mat(preds.reshape(-1), truths.reshape(-1), test_ds.class_names)"
      ],
      "execution_count": null,
      "outputs": [
        {
          "output_type": "display_data",
          "data": {
            "image/png": "[encoded data removed]",
            "text/plain": [
              "<Figure size 432x288 with 1 Axes>"
            ]
          },
          "metadata": {
            "tags": [],
            "needs_background": "light"
          }
        }
      ]
    }
  ]
}