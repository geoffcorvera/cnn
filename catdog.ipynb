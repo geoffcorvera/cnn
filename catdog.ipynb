{
  "nbformat": 4,
  "nbformat_minor": 0,
  "metadata": {
    "colab": {
      "name": "catdog.ipynb",
      "provenance": [],
      "collapsed_sections": [],
      "toc_visible": true,
      "mount_file_id": "1DTMD1xpRXsLgB9pYFumEUIvo009xgsNJ",
      "authorship_tag": "ABX9TyO5OnIOY4rcZu3f5BJiKX92",
      "include_colab_link": true
    },
    "kernelspec": {
      "display_name": "Python 3",
      "name": "python3"
    },
    "language_info": {
      "name": "python"
    },
    "accelerator": "GPU"
  },
  "cells": [
    {
      "cell_type": "markdown",
      "metadata": {
        "id": "view-in-github",
        "colab_type": "text"
      },
      "source": [
        "<a href=\"https://colab.research.google.com/github/geoffcorvera/cnn/blob/colab/catdog.ipynb\" target=\"_parent\"><img src=\"https://colab.research.google.com/assets/colab-badge.svg\" alt=\"Open In Colab\"/></a>"
      ]
    },
    {
      "cell_type": "code",
      "metadata": {
        "id": "fxo6jC0KtwUm"
      },
      "source": [
        "import os\n",
        "import numpy as np \n",
        "import matplotlib.pyplot as plt\n",
        "\n",
        "import tensorflow as tf \n",
        "from tensorflow.keras.applications import InceptionResNetV2\n",
        "from keras import models\n",
        "from keras import layers\n",
        "from tensorflow import keras\n",
        "from tensorflow.keras.layers.experimental import preprocessing as preprocessing_layers\n",
        "from tensorflow.math import confusion_matrix"
      ],
      "execution_count": 1,
      "outputs": []
    },
    {
      "cell_type": "code",
      "metadata": {
        "id": "k27Ev1ArFi_B",
        "colab": {
          "base_uri": "https://localhost:8080/"
        },
        "outputId": "41bdbe58-b593-4dae-e6a8-1f5c63377c40"
      },
      "source": [
        "# Confirm GPU connection\n",
        "device_name = tf.test.gpu_device_name()\n",
        "if device_name != '/device:GPU:0':\n",
        "  raise SystemError('GPU device not found')\n",
        "print(f'Found GPU at: {device_name}')"
      ],
      "execution_count": 2,
      "outputs": [
        {
          "output_type": "stream",
          "text": [
            "Found GPU at: /device:GPU:0\n"
          ],
          "name": "stdout"
        }
      ]
    },
    {
      "cell_type": "markdown",
      "metadata": {
        "id": "X5ESCOtfvM_z"
      },
      "source": [
        "# Load Pre-Trained Model\n",
        "Import InceptionResNetV2 pre-trained model - without the final classifying labels. We will append our own binary classifier, by flattening the output of InceptionResNetV2, then adding a fully connected layer and final output layer with a single neuron with sigmoid output."
      ]
    },
    {
      "cell_type": "code",
      "metadata": {
        "id": "QE9KxubI-Fvg",
        "colab": {
          "base_uri": "https://localhost:8080/"
        },
        "outputId": "fd42a22f-9e3d-4ae4-a9c5-0c28d8626434"
      },
      "source": [
        "# Load resnet pretrained on ImageNet\n",
        "pre_model = InceptionResNetV2(weights='imagenet', include_top=False, input_shape=(150,150,3))\n",
        "pre_model.trainable = False\n",
        "\n",
        "save_dir = r'/content/drive/MyDrive/Spring2021/Deep Learning & Computer Vision'\n",
        "file_name = 'InceptionResNetV2_summary.txt'\n",
        "f_path = os.path.join(save_dir, file_name)\n",
        "with open(f_path, 'w') as f:\n",
        "  pre_model.summary(print_fn=lambda x: f.write(x + '\\n'))\n",
        "  f.close()\n",
        "\n",
        "# Plot model to file\n",
        "# plot_img_file = os.path.join(save_dir, 'pre_model_plot.jpg')\n",
        "# tf.keras.utils.plot_model(pre_model, to_file=plot_img_file, show_shapes=True) "
      ],
      "execution_count": 3,
      "outputs": [
        {
          "output_type": "stream",
          "text": [
            "Downloading data from https://storage.googleapis.com/tensorflow/keras-applications/inception_resnet_v2/inception_resnet_v2_weights_tf_dim_ordering_tf_kernels_notop.h5\n",
            "219062272/219055592 [==============================] - 1s 0us/step\n"
          ],
          "name": "stdout"
        }
      ]
    },
    {
      "cell_type": "code",
      "metadata": {
        "colab": {
          "base_uri": "https://localhost:8080/",
          "height": 271
        },
        "id": "ZxoMrp7As3ze",
        "outputId": "64e77957-4b29-499d-bda3-e5e52d7aba57"
      },
      "source": [
        "# Visualize inception resnet first layer filters\n",
        "def getConvLayer(model):\n",
        "  res = None\n",
        "  for layer in model.layers:\n",
        "    if 'conv' in layer.name:\n",
        "      res = layer\n",
        "      break\n",
        "  return res\n",
        "\n",
        "def normalize(X):\n",
        "  return (X - np.min(X))/(np.max(X) - np.min(X))\n",
        "\n",
        "def visualizeFilters(filters):\n",
        "  nf = filters.shape[3]\n",
        "  fig, _ = plt.subplots(4,8)\n",
        "  \n",
        "  for i, ax in enumerate(fig.axes):\n",
        "    f = filters[:,:,:,i]\n",
        "    f = normalize(f)\n",
        "    ax.imshow(f, cmap='gray')\n",
        "    ax.set_axis_off()\n",
        "\n",
        "  fig.suptitle('1st Convolution Layer Filters')\n",
        "  plt.show()\n",
        "\n",
        "\n",
        "conv_layer = getConvLayer(pre_model)\n",
        "visualizeFilters(conv_layer.get_weights()[0])"
      ],
      "execution_count": 4,
      "outputs": [
        {
          "output_type": "display_data",
          "data": {
            "image/png": "[encoded data removed]",
            "text/plain": [
              "<Figure size 432x288 with 32 Axes>"
            ]
          },
          "metadata": {
            "tags": [],
            "needs_background": "light"
          }
        }
      ]
    },
    {
      "cell_type": "markdown",
      "metadata": {
        "id": "AQ-YWDMxULTD"
      },
      "source": [
        "# Build Model\n",
        "A binary classifier is added to the pre-trained model. The model also specifies preprocessing so it can take raw image data. Data is augmented with horizontal flips, random rotation and zooming to improve generalizability/prevent overfitting to the training data. Another layer rescales pixel values within the range [0,1].\n",
        "\n",
        "The model is compiled with binary cross entropy loss and RMSprop optimizer, and 'accuracy' metrics are enabled for training."
      ]
    },
    {
      "cell_type": "code",
      "metadata": {
        "colab": {
          "base_uri": "https://localhost:8080/"
        },
        "id": "jQMCbqpc0KWt",
        "outputId": "5182dd6f-b8d3-4979-832a-5ed0177b4c26"
      },
      "source": [
        "def binary_img_classifier(base_model):\n",
        "\n",
        "  data_augmentation = keras.Sequential(\n",
        "      [\n",
        "        preprocessing_layers.RandomFlip('horizontal'),\n",
        "        preprocessing_layers.RandomRotation(0.1),\n",
        "        preprocessing_layers.RandomZoom(0.1),\n",
        "      ]\n",
        "  )\n",
        "\n",
        "  input_shape = (150,150,3)\n",
        "  inputs = keras.Input(shape=input_shape)\n",
        "  x = data_augmentation(inputs)           #Augment data to increase training set\n",
        "  x = preprocessing_layers.Rescaling(1.0/255)(x) #Rescale image values to [0,1]\n",
        "\n",
        "  outputs = base_model(x)\n",
        "  outputs = layers.Flatten()(outputs) #flatten output of pre_model\n",
        "  outputs = layers.Dense(256, activation='relu')(outputs) #adds dense layer w/ 256 neurons + ReLU activation\n",
        "  outputs = layers.Dense(1, activation='sigmoid')(outputs) #output layer w/ single neuron, output in range [0,1]\n",
        "\n",
        "  model = keras.Model(inputs, outputs)\n",
        "\n",
        "  model.compile(optimizer='rmsprop',\n",
        "                metrics=['accuracy'],\n",
        "                loss='binary_crossentropy')\n",
        "  \n",
        "  return model\n",
        "\n",
        "\n",
        "model = binary_img_classifier(pre_model)\n",
        "model.summary()\n"
      ],
      "execution_count": 28,
      "outputs": [
        {
          "output_type": "stream",
          "text": [
            "Model: \"model_4\"\n",
            "_________________________________________________________________\n",
            "Layer (type)                 Output Shape              Param #   \n",
            "=================================================================\n",
            "input_6 (InputLayer)         [(None, 150, 150, 3)]     0         \n",
            "_________________________________________________________________\n",
            "sequential_7 (Sequential)    (None, 150, 150, 3)       0         \n",
            "_________________________________________________________________\n",
            "rescaling_4 (Rescaling)      (None, 150, 150, 3)       0         \n",
            "_________________________________________________________________\n",
            "inception_resnet_v2 (Functio (None, 3, 3, 1536)        54336736  \n",
            "_________________________________________________________________\n",
            "flatten_4 (Flatten)          (None, 13824)             0         \n",
            "_________________________________________________________________\n",
            "dense_8 (Dense)              (None, 256)               3539200   \n",
            "_________________________________________________________________\n",
            "dense_9 (Dense)              (None, 1)                 257       \n",
            "=================================================================\n",
            "Total params: 57,876,193\n",
            "Trainable params: 3,539,457\n",
            "Non-trainable params: 54,336,736\n",
            "_________________________________________________________________\n"
          ],
          "name": "stdout"
        }
      ]
    },
    {
      "cell_type": "markdown",
      "metadata": {
        "id": "3aFL1heJg554"
      },
      "source": [
        "# Evaluate transfer model before training"
      ]
    },
    {
      "cell_type": "code",
      "metadata": {
        "id": "ZMEPLGlJg4BY"
      },
      "source": [
        "def get_preds_labels(model, dat):\n",
        "  truths = []\n",
        "  preds = []\n",
        "  for X,Y in dat:\n",
        "    truths.append(Y.numpy().astype(int))\n",
        "    preds.append(model.predict(X))\n",
        "\n",
        "  preds = np.concatenate(preds, axis=0)\n",
        "  truths = np.concatenate(truths, axis=0)\n",
        "  # Threshold at 0.9\n",
        "  preds = np.where(preds>0.9,1,0).astype(int)\n",
        "  return (preds, truths)\n",
        "\n",
        "\n",
        "def show_conf_mat(y_pred, y_true, class_names):\n",
        "  con_mat = confusion_matrix(labels=y_true, predictions=y_pred).numpy()\n",
        "  \n",
        "  fig, ax = plt.subplots()\n",
        "  ax.matshow(con_mat, cmap='cividis')\n",
        "  for (i, j), z in np.ndenumerate(con_mat):\n",
        "    ax.text(j, i, '{:0.1f}'.format(z), ha='center', va='center')\n",
        "  ax.set_xticklabels(['']+class_names)\n",
        "  ax.set_yticklabels(['']+class_names)\n",
        "  plt.show()"
      ],
      "execution_count": 29,
      "outputs": []
    },
    {
      "cell_type": "code",
      "metadata": {
        "colab": {
          "base_uri": "https://localhost:8080/",
          "height": 287
        },
        "id": "Hxz5wHQ7hvYY",
        "outputId": "17f3c0d2-c952-4033-980d-33aa325e1271"
      },
      "source": [
        "model.evaluate(test_ds)\n",
        "y_pred, y_true = get_preds_labels(model, test_ds)\n",
        "show_conf_mat(y_pred.reshape(-1), y_true.reshape(-1), test_ds.class_names)"
      ],
      "execution_count": 31,
      "outputs": [
        {
          "output_type": "stream",
          "text": [
            "32/32 [==============================] - 8s 222ms/step - loss: 0.9028 - accuracy: 0.5017\n"
          ],
          "name": "stdout"
        },
        {
          "output_type": "display_data",
          "data": {
            "image/png": "[encoded data removed]",
            "text/plain": [
              "<Figure size 432x288 with 1 Axes>"
            ]
          },
          "metadata": {
            "tags": [],
            "needs_background": "light"
          }
        }
      ]
    },
    {
      "cell_type": "markdown",
      "metadata": {
        "id": "qy3uwUUrrQwY"
      },
      "source": [
        "When running the built-in evaluate function, the model was able to achieve 50% accuracy against the test set of cats & dogs before training. From the confusion matrix, we can see that the pre-trained InceptionResNetV2 model can propertly identify almost 60% of the cat examples, and 74% of the dog examples. InceptionResNetV2 was pre-trained on ImageNet, a dataset which contains examples of cats and dogs.\n",
        "\n",
        "Initially, the network is miscategorizing a significant amount of cats as dogs. In the following steps, we will fine-tune the network on more images of cats & dogs."
      ]
    },
    {
      "cell_type": "markdown",
      "metadata": {
        "id": "AVWxjozXQyl6"
      },
      "source": [
        "# Import Data\n",
        "All images are resized to (150x150). The training dataset is split into training & validation datasets. Most of the preprocessing is specified within the model (see above). Note: Rescaling pixel intensities is done within the model."
      ]
    },
    {
      "cell_type": "code",
      "metadata": {
        "colab": {
          "base_uri": "https://localhost:8080/"
        },
        "id": "Vhw3dducvMmr",
        "outputId": "bb0870bb-55e4-45ef-a1cf-ceb531339889"
      },
      "source": [
        "import tensorflow.keras.preprocessing as preprocessing\n",
        "from google.colab import drive\n",
        "\n",
        "print('Importing training and test datasets...\\n')\n",
        "batch_size = 64\n",
        "\n",
        "train_path = r'/content/drive/MyDrive/Spring2021/Deep Learning & Computer Vision/p3_data/cats_dogs_dataset/dataset/training_set'\n",
        "all_ds = preprocessing.image_dataset_from_directory(train_path,\n",
        "                                                    image_size=(150,150),\n",
        "                                                    shuffle=True,\n",
        "                                                    label_mode='binary',\n",
        "                                                    batch_size=batch_size)\n",
        "\n",
        "val_size = 12\n",
        "val_ds = all_ds.take(val_size)\n",
        "train_ds = all_ds.skip(val_size)\n",
        "\n",
        "test_path = r'/content/drive/MyDrive/Spring2021/Deep Learning & Computer Vision/p3_data/cats_dogs_dataset/dataset/test_set'\n",
        "test_ds = preprocessing.image_dataset_from_directory(test_path,\n",
        "                                                     image_size=(150,150),\n",
        "                                                     label_mode='binary',\n",
        "                                                     batch_size=batch_size)"
      ],
      "execution_count": 6,
      "outputs": [
        {
          "output_type": "stream",
          "text": [
            "Importing training and test datasets...\n",
            "\n",
            "Found 8282 files belonging to 2 classes.\n",
            "Found 2003 files belonging to 2 classes.\n"
          ],
          "name": "stdout"
        }
      ]
    },
    {
      "cell_type": "markdown",
      "metadata": {
        "id": "fpOLl6TbEeAY"
      },
      "source": [
        "# Train\n",
        "The model is compiled with RMSprop optimizer and binary cross-entropy loss function.\n",
        "\n",
        "Training continues for 5 epochs, with 12 batches from the training dataset designated for validation during fitting.\n",
        "\n",
        "Weights are saved periodically during training to the \"training\" directory. When model fitting is complete, the model is saved to \"last_trained\" directory for future use."
      ]
    },
    {
      "cell_type": "code",
      "metadata": {
        "id": "gN5eMw5EPVzW"
      },
      "source": [
        "# Optional: Load previously trained model & SKIP NEXT 2 CODE BLOCKS\n",
        "model = keras.models.load_model(r'/content/drive/MyDrive/Spring2021/Deep Learning & Computer Vision/saved_models/v4_catdog_binaryaccuracy')"
      ],
      "execution_count": null,
      "outputs": []
    },
    {
      "cell_type": "code",
      "metadata": {
        "id": "-1cahjH-_POA"
      },
      "source": [
        "# fit model & save weights during training & after\n",
        "def fit_to_data(model, train_ds, val_ds):\n",
        "  checkpoint_path = r'/content/drive/MyDrive/Spring2021/Deep Learning & Computer Vision/training'\n",
        "  checkpoint_dir = os.path.dirname(checkpoint_path)\n",
        "\n",
        "  cp_callback = tf.keras.callbacks.ModelCheckpoint(filepath=checkpoint_path,\n",
        "                                                  save_weights_only=True,\n",
        "                                                  verbose=1)\n",
        "\n",
        "  history = model.fit(train_ds,\n",
        "                      epochs=5,\n",
        "                      callbacks=[cp_callback],\n",
        "                      validation_data=val_ds)\n",
        "\n",
        "  return history"
      ],
      "execution_count": 25,
      "outputs": []
    },
    {
      "cell_type": "code",
      "metadata": {
        "colab": {
          "base_uri": "https://localhost:8080/"
        },
        "id": "72Wq1f-mfJuA",
        "outputId": "15a408ac-1eca-45cd-c3fc-0de448788f3e"
      },
      "source": [
        "train_hist_full_model = fit_to_data(model, train_ds, val_ds)\n",
        "# Save trained model\n",
        "save_path = r'/content/drive/MyDrive/Spring2021/Deep Learning & Computer Vision/last_trained'\n",
        "model.save(save_path)"
      ],
      "execution_count": 32,
      "outputs": [
        {
          "output_type": "stream",
          "text": [
            "Epoch 1/5\n",
            "118/118 [==============================] - 46s 290ms/step - loss: 2.7002 - accuracy: 0.9002 - val_loss: 0.2511 - val_accuracy: 0.9688\n",
            "\n",
            "Epoch 00001: saving model to /content/drive/MyDrive/Spring2021/Deep Learning & Computer Vision/training\n",
            "Epoch 2/5\n",
            "118/118 [==============================] - 37s 293ms/step - loss: 0.7210 - accuracy: 0.9236 - val_loss: 0.6088 - val_accuracy: 0.9440\n",
            "\n",
            "Epoch 00002: saving model to /content/drive/MyDrive/Spring2021/Deep Learning & Computer Vision/training\n",
            "Epoch 3/5\n",
            "118/118 [==============================] - 37s 294ms/step - loss: 0.4308 - accuracy: 0.9352 - val_loss: 0.7284 - val_accuracy: 0.8724\n",
            "\n",
            "Epoch 00003: saving model to /content/drive/MyDrive/Spring2021/Deep Learning & Computer Vision/training\n",
            "Epoch 4/5\n",
            "118/118 [==============================] - 38s 297ms/step - loss: 0.3747 - accuracy: 0.9381 - val_loss: 0.2033 - val_accuracy: 0.9518\n",
            "\n",
            "Epoch 00004: saving model to /content/drive/MyDrive/Spring2021/Deep Learning & Computer Vision/training\n",
            "Epoch 5/5\n",
            "118/118 [==============================] - 38s 295ms/step - loss: 0.2587 - accuracy: 0.9421 - val_loss: 0.0947 - val_accuracy: 0.9701\n",
            "\n",
            "Epoch 00005: saving model to /content/drive/MyDrive/Spring2021/Deep Learning & Computer Vision/training\n",
            "INFO:tensorflow:Assets written to: /content/drive/MyDrive/Spring2021/Deep Learning & Computer Vision/last_trained/assets\n"
          ],
          "name": "stdout"
        }
      ]
    },
    {
      "cell_type": "code",
      "metadata": {
        "id": "OayS_KR9tid4",
        "colab": {
          "base_uri": "https://localhost:8080/",
          "height": 287
        },
        "outputId": "ce115a4d-2d4a-49a8-f76b-9bb74d984787"
      },
      "source": [
        "results = model.evaluate(test_ds)\n",
        "\n",
        "preds, truths = get_preds_labels(model, test_ds)\n",
        "show_conf_mat(preds.reshape(-1), truths.reshape(-1), test_ds.class_names)"
      ],
      "execution_count": 33,
      "outputs": [
        {
          "output_type": "stream",
          "text": [
            "32/32 [==============================] - 8s 222ms/step - loss: 0.0815 - accuracy: 0.9750\n"
          ],
          "name": "stdout"
        },
        {
          "output_type": "display_data",
          "data": {
            "image/png": "[encoded data removed]",
            "text/plain": [
              "<Figure size 432x288 with 1 Axes>"
            ]
          },
          "metadata": {
            "tags": [],
            "needs_background": "light"
          }
        }
      ]
    },
    {
      "cell_type": "markdown",
      "metadata": {
        "id": "ogVnokVxvg1n"
      },
      "source": [
        "After fitting the model to the training set of cats & dogs, the built-in evaluate function reports an accuracy of 97% against the test set. During training, the reported per-epoch loss against the validation set was: 0.2511, 0.6088, 0.7284, 0.2033, 0.0947. Epochs 2 & 3 saw greater loss and lower accuracy against the validation set - a sign that the model was overfitting to training data. However, performance against the validation set improved in subsequent epochs; with accuracy against the validation set reaching 97% at epoch 5.\n",
        "\n",
        "The final confusion matrix of predictions against the test set demonstrates that the network was successfully fine-tuned to cats & dogs after training."
      ]
    },
    {
      "cell_type": "markdown",
      "metadata": {
        "id": "cY8fY1s_cqb5"
      },
      "source": [
        "# Create Sub-Network\n",
        "The first 18 layers of the InceptionResNetV2 model are taken to create a new, smaller network. It's outputs are flattened, fed into a fully-connected layer with 256 neurons and ReLU activation. The final output layer has a single neuron with sigmoid activation.\n",
        "\n",
        "The summary of the layers pulled from InceptionResNetV2 is shown below."
      ]
    },
    {
      "cell_type": "code",
      "metadata": {
        "colab": {
          "base_uri": "https://localhost:8080/"
        },
        "id": "96qeksmaWomZ",
        "outputId": "c966d48e-ba49-407d-9a04-4630a4eef6b1"
      },
      "source": [
        "def get_subnet(original, nlayers):\n",
        "  sub = keras.Sequential()\n",
        "\n",
        "  for i,l in enumerate(pre_model.layers):\n",
        "    if i > nlayers:\n",
        "      break\n",
        "    sub.add(l)\n",
        "  \n",
        "  return sub\n",
        "\n",
        "sub_net = get_subnet(pre_model, 18)\n",
        "sub_net.summary()\n",
        "\n",
        "# Transfer head to sub-network\n",
        "sub_net = binary_img_classifier(sub_net)"
      ],
      "execution_count": 23,
      "outputs": [
        {
          "output_type": "stream",
          "text": [
            "Model: \"sequential_5\"\n",
            "_________________________________________________________________\n",
            "Layer (type)                 Output Shape              Param #   \n",
            "=================================================================\n",
            "conv2d (Conv2D)              (None, 74, 74, 32)        864       \n",
            "_________________________________________________________________\n",
            "batch_normalization (BatchNo (None, 74, 74, 32)        96        \n",
            "_________________________________________________________________\n",
            "activation (Activation)      (None, 74, 74, 32)        0         \n",
            "_________________________________________________________________\n",
            "conv2d_1 (Conv2D)            (None, 72, 72, 32)        9216      \n",
            "_________________________________________________________________\n",
            "batch_normalization_1 (Batch (None, 72, 72, 32)        96        \n",
            "_________________________________________________________________\n",
            "activation_1 (Activation)    (None, 72, 72, 32)        0         \n",
            "_________________________________________________________________\n",
            "conv2d_2 (Conv2D)            (None, 72, 72, 64)        18432     \n",
            "_________________________________________________________________\n",
            "batch_normalization_2 (Batch (None, 72, 72, 64)        192       \n",
            "_________________________________________________________________\n",
            "activation_2 (Activation)    (None, 72, 72, 64)        0         \n",
            "_________________________________________________________________\n",
            "max_pooling2d (MaxPooling2D) (None, 35, 35, 64)        0         \n",
            "_________________________________________________________________\n",
            "conv2d_3 (Conv2D)            (None, 35, 35, 80)        5120      \n",
            "_________________________________________________________________\n",
            "batch_normalization_3 (Batch (None, 35, 35, 80)        240       \n",
            "_________________________________________________________________\n",
            "activation_3 (Activation)    (None, 35, 35, 80)        0         \n",
            "_________________________________________________________________\n",
            "conv2d_4 (Conv2D)            (None, 33, 33, 192)       138240    \n",
            "_________________________________________________________________\n",
            "batch_normalization_4 (Batch (None, 33, 33, 192)       576       \n",
            "_________________________________________________________________\n",
            "activation_4 (Activation)    (None, 33, 33, 192)       0         \n",
            "_________________________________________________________________\n",
            "max_pooling2d_1 (MaxPooling2 (None, 16, 16, 192)       0         \n",
            "_________________________________________________________________\n",
            "conv2d_8 (Conv2D)            (None, 16, 16, 64)        12288     \n",
            "=================================================================\n",
            "Total params: 185,360\n",
            "Trainable params: 0\n",
            "Non-trainable params: 185,360\n",
            "_________________________________________________________________\n"
          ],
          "name": "stdout"
        }
      ]
    },
    {
      "cell_type": "markdown",
      "metadata": {
        "id": "jZXDgKUQpKZl"
      },
      "source": [
        "# Train & Evaluate Sub-Network\n",
        "The new network is fit to the training data. During training, accuracy & loss against the training and validation sets are shown (averaged across each epoch). After 5 epochs, accuracy against the validation set increased by 6%.\n",
        "\n"
      ]
    },
    {
      "cell_type": "code",
      "metadata": {
        "colab": {
          "base_uri": "https://localhost:8080/"
        },
        "id": "aYjMTWz-adNr",
        "outputId": "979b55f5-508e-46f8-e3f1-c741e10f4a16"
      },
      "source": [
        "history_subnet_train = fit_to_data(sub_net, train_ds, val_ds)"
      ],
      "execution_count": 14,
      "outputs": [
        {
          "output_type": "stream",
          "text": [
            "Fitting to data...\n",
            "\n",
            "Epoch 1/5\n",
            "118/118 [==============================] - 1672s 12s/step - loss: 7.9370 - accuracy: 0.5653 - val_loss: 0.5694 - val_accuracy: 0.7083\n",
            "\n",
            "Epoch 00001: saving model to /content/drive/MyDrive/Spring2021/Deep Learning & Computer Vision/training\n",
            "Epoch 2/5\n",
            "118/118 [==============================] - 25s 189ms/step - loss: 0.6582 - accuracy: 0.6894 - val_loss: 0.5964 - val_accuracy: 0.7148\n",
            "\n",
            "Epoch 00002: saving model to /content/drive/MyDrive/Spring2021/Deep Learning & Computer Vision/training\n",
            "Epoch 3/5\n",
            "118/118 [==============================] - 25s 187ms/step - loss: 0.5959 - accuracy: 0.7050 - val_loss: 0.4873 - val_accuracy: 0.7669\n",
            "\n",
            "Epoch 00003: saving model to /content/drive/MyDrive/Spring2021/Deep Learning & Computer Vision/training\n",
            "Epoch 4/5\n",
            "118/118 [==============================] - 25s 187ms/step - loss: 0.5420 - accuracy: 0.7418 - val_loss: 0.6679 - val_accuracy: 0.7005\n",
            "\n",
            "Epoch 00004: saving model to /content/drive/MyDrive/Spring2021/Deep Learning & Computer Vision/training\n",
            "Epoch 5/5\n",
            "118/118 [==============================] - 25s 189ms/step - loss: 0.5345 - accuracy: 0.7441 - val_loss: 0.4681 - val_accuracy: 0.7682\n",
            "\n",
            "Epoch 00005: saving model to /content/drive/MyDrive/Spring2021/Deep Learning & Computer Vision/training\n",
            "INFO:tensorflow:Assets written to: /content/drive/MyDrive/Spring2021/Deep Learning & Computer Vision/last_trained/assets\n"
          ],
          "name": "stdout"
        }
      ]
    },
    {
      "cell_type": "code",
      "metadata": {
        "colab": {
          "base_uri": "https://localhost:8080/",
          "height": 287
        },
        "id": "wjYe5t1WiCGA",
        "outputId": "82d59e85-9710-4762-b547-4bad0ce72c5a"
      },
      "source": [
        "preds, truths = get_preds_labels(sub_net, test_ds)\n",
        "show_conf_mat(preds.reshape(-1), truths.reshape(-1), test_ds.class_names)"
      ],
      "execution_count": 19,
      "outputs": [
        {
          "output_type": "stream",
          "text": [
            "(2003, 1) (2003, 1)\n"
          ],
          "name": "stdout"
        },
        {
          "output_type": "display_data",
          "data": {
            "image/png": "[encoded data removed]",
            "text/plain": [
              "<Figure size 432x288 with 1 Axes>"
            ]
          },
          "metadata": {
            "tags": [],
            "needs_background": "light"
          }
        }
      ]
    },
    {
      "cell_type": "code",
      "metadata": {
        "colab": {
          "base_uri": "https://localhost:8080/"
        },
        "id": "OKkAHja6oGU5",
        "outputId": "f74eba08-13ea-4b14-91ce-813b3e8c1761"
      },
      "source": [
        "sub_net.evaluate(test_ds)"
      ],
      "execution_count": 24,
      "outputs": [
        {
          "output_type": "stream",
          "text": [
            "32/32 [==============================] - 5s 128ms/step - loss: 1.1314 - accuracy: 0.4951\n"
          ],
          "name": "stdout"
        },
        {
          "output_type": "execute_result",
          "data": {
            "text/plain": [
              "[1.1395853757858276, 0.4942586123943329]"
            ]
          },
          "metadata": {
            "tags": []
          },
          "execution_count": 24
        }
      ]
    },
    {
      "cell_type": "markdown",
      "metadata": {
        "id": "hPDvbRNAxK_z"
      },
      "source": [
        "The shallower network was not able to perform as well as the deeper network with 5 epochs. The network was only able to achieve 74% accuracy against the training, and 76% against the validation set during training. The final accuracy agains the test set reported by the evaluate function is 49%. The confusion matrix for the test set predictions show an overall accuracy of 70% - appearing to perform only slightly better than the deeper, untrained network. The shallower network may require more training epochs to achieve better performance, and appears to be unable to generalize as well as its deeper counterpart."
      ]
    }
  ]
}